{
 "cells": [
  {
   "cell_type": "code",
   "execution_count": 1,
   "metadata": {},
   "outputs": [],
   "source": [
    "with open('NER_v1.0.json') as file:\n",
    "    content = file.readlines()"
   ]
  },
  {
   "cell_type": "code",
   "execution_count": 2,
   "metadata": {},
   "outputs": [
    {
     "data": {
      "text/plain": [
       "'{\"text\": \"Харин \\\\\"Тавантолгой\\\\\" ХК-ийн уурхайчид 2017 онд 141 тэрбум төгрөгийн ашигтай ажиллаад удахгүй хувьцаа эзэмшигчдийнхээ хурлыг хийж ногдол ашгаа хуваарилах юм байна.\", \"labels\": [[7, 18, \"ORG\"]]}\\n'"
      ]
     },
     "execution_count": 2,
     "metadata": {},
     "output_type": "execute_result"
    }
   ],
   "source": [
    "content[0]"
   ]
  },
  {
   "cell_type": "code",
   "execution_count": 3,
   "metadata": {},
   "outputs": [],
   "source": [
    "from ast import literal_eval"
   ]
  },
  {
   "cell_type": "code",
   "execution_count": 4,
   "metadata": {},
   "outputs": [],
   "source": [
    "content = [literal_eval(i) for i in content ]"
   ]
  },
  {
   "cell_type": "code",
   "execution_count": 5,
   "metadata": {},
   "outputs": [
    {
     "data": {
      "text/plain": [
       "{'text': 'Яагаад ийм яриа гарах болсон нөхцөл нь Улсын бүртгэлийн багц хууль батлагдсантай холбоотой гэж бодож байна.',\n",
       " 'labels': [[39, 66, 'MISC']]}"
      ]
     },
     "execution_count": 5,
     "metadata": {},
     "output_type": "execute_result"
    }
   ],
   "source": [
    "content[-1]"
   ]
  },
  {
   "cell_type": "code",
   "execution_count": 6,
   "metadata": {},
   "outputs": [
    {
     "data": {
      "text/plain": [
       "[39, 66]"
      ]
     },
     "execution_count": 6,
     "metadata": {},
     "output_type": "execute_result"
    }
   ],
   "source": [
    "content[-1]['labels'][0][:-1]"
   ]
  },
  {
   "cell_type": "code",
   "execution_count": 7,
   "metadata": {},
   "outputs": [
    {
     "data": {
      "text/plain": [
       "10162"
      ]
     },
     "execution_count": 7,
     "metadata": {},
     "output_type": "execute_result"
    }
   ],
   "source": [
    "len(content)"
   ]
  },
  {
   "cell_type": "code",
   "execution_count": 8,
   "metadata": {},
   "outputs": [
    {
     "data": {
      "text/plain": [
       "['Улсын', 'бүртгэлийн', 'багц', 'хууль']"
      ]
     },
     "execution_count": 8,
     "metadata": {},
     "output_type": "execute_result"
    }
   ],
   "source": [
    "content[-1]['text'][39:66].split()"
   ]
  },
  {
   "cell_type": "code",
   "execution_count": 9,
   "metadata": {},
   "outputs": [
    {
     "data": {
      "text/plain": [
       "['Тэгвэл',\n",
       " 'Лонзо',\n",
       " 'хэдхэн',\n",
       " 'хоногийн',\n",
       " 'өмнө',\n",
       " '\"Кайли',\n",
       " 'Кузма\"',\n",
       " 'нэртэй',\n",
       " 'шинэ',\n",
       " 'дууныхаа',\n",
       " 'клипийг',\n",
       " 'цацсан',\n",
       " 'билээ.']"
      ]
     },
     "execution_count": 9,
     "metadata": {},
     "output_type": "execute_result"
    }
   ],
   "source": [
    "content[1000]['text'].split()"
   ]
  },
  {
   "cell_type": "code",
   "execution_count": 14,
   "metadata": {},
   "outputs": [],
   "source": [
    "converted_sents = []\n",
    "for con in content:\n",
    "    if len(con['labels']) > 0:\n",
    "        new_content = {}\n",
    "        for label in con['labels']:\n",
    "            start = label[:-1][0]\n",
    "            end = label[:-1][1]\n",
    "            if len(con['text'][start:end].split()) > 1: \n",
    "                replacer = []\n",
    "                for idx, sub in enumerate(con['text'][start:end].split()):\n",
    "                    if idx == 0:\n",
    "                        replacer.append(sub + '_B-' +label[2])\n",
    "                    else:\n",
    "                        replacer.append(sub + '_I-' +label[2])\n",
    "                new_content['{}:{}'.format(start, end)] = ' '.join(replacer)\n",
    "            else:\n",
    "                new_content['{}:{}'.format(start, end)] = con['text'][start:end] + '_B-' +label[2]\n",
    "        sents = []\n",
    "        for k,v in new_content.items():\n",
    "            start = int(k.split(':')[0])\n",
    "            end = int(k.split(':')[1])\n",
    "            sents.append(con['text'].replace(con['text'][start:end], v))\n",
    "        converted_sents.append(sents)\n",
    "    else:\n",
    "        converted_sents.append([con['text']])"
   ]
  },
  {
   "cell_type": "code",
   "execution_count": 15,
   "metadata": {},
   "outputs": [
    {
     "data": {
      "text/plain": [
       "10162"
      ]
     },
     "execution_count": 15,
     "metadata": {},
     "output_type": "execute_result"
    }
   ],
   "source": [
    "len(converted_sents)"
   ]
  },
  {
   "cell_type": "code",
   "execution_count": 16,
   "metadata": {},
   "outputs": [
    {
     "data": {
      "text/plain": [
       "['Харин \"Тавантолгой_B-ORG\" ХК-ийн уурхайчид 2017 онд 141 тэрбум төгрөгийн ашигтай ажиллаад удахгүй хувьцаа эзэмшигчдийнхээ хурлыг хийж ногдол ашгаа хуваарилах юм байна.']"
      ]
     },
     "execution_count": 16,
     "metadata": {},
     "output_type": "execute_result"
    }
   ],
   "source": [
    "converted_sents[0]"
   ]
  },
  {
   "cell_type": "code",
   "execution_count": 3,
   "metadata": {},
   "outputs": [],
   "source": [
    "import pandas as pd"
   ]
  },
  {
   "cell_type": "code",
   "execution_count": 18,
   "metadata": {},
   "outputs": [],
   "source": [
    "left = pd.DataFrame(converted_sents).iloc[:,0].fillna(' ').apply(lambda x: x.split())"
   ]
  },
  {
   "cell_type": "code",
   "execution_count": 19,
   "metadata": {},
   "outputs": [],
   "source": [
    "right = pd.DataFrame(converted_sents).iloc[:,1].fillna(' ').apply(lambda x: x.split())"
   ]
  },
  {
   "cell_type": "code",
   "execution_count": 20,
   "metadata": {},
   "outputs": [],
   "source": [
    "def singlify(row):\n",
    "    combined = []\n",
    "#     print(row[0], row[1])\n",
    "    if row[1] == []:\n",
    "        return ' '.join(row[0])\n",
    "    else:\n",
    "        for i,j in zip(row[0], row[1]):\n",
    "            if len(i) > len(j):\n",
    "                combined.append(i)\n",
    "            else:\n",
    "                combined.append(j)\n",
    "        return ' '.join(combined)"
   ]
  },
  {
   "cell_type": "code",
   "execution_count": 21,
   "metadata": {},
   "outputs": [],
   "source": [
    "df = pd.DataFrame([left, right]).transpose().apply(lambda x: singlify(x), axis=1)"
   ]
  },
  {
   "cell_type": "code",
   "execution_count": 22,
   "metadata": {},
   "outputs": [
    {
     "data": {
      "text/plain": [
       "'Надад одоогоор УИХ_B-ORG-ын Тамгын_B-ORG газраас_I-ORG ээлжит бус чуулганыг хуралдуулахтай холбоотой мэдэгдэл ирээгүй байна.'"
      ]
     },
     "execution_count": 22,
     "metadata": {},
     "output_type": "execute_result"
    }
   ],
   "source": [
    "df.head()[4]"
   ]
  },
  {
   "cell_type": "code",
   "execution_count": 23,
   "metadata": {},
   "outputs": [],
   "source": [
    "import re"
   ]
  },
  {
   "cell_type": "code",
   "execution_count": 24,
   "metadata": {},
   "outputs": [],
   "source": [
    "pattern = '_B-ORG|_I-ORG|_B-LOC|_I-LOC|_B-MISC|_I-MISC|_B-PER|_I-PER'"
   ]
  },
  {
   "cell_type": "code",
   "execution_count": 31,
   "metadata": {},
   "outputs": [],
   "source": [
    "with open('mn-ner-conll2003.txt', 'w') as file:\n",
    "    for idx, sent in df.items():\n",
    "        for word in sent.split():\n",
    "            if any(x in word for x in ['LOC', 'MISC', 'ORG', 'PER']):\n",
    "                if any(word.endswith(x) for x in ['LOC', 'MISC', 'ORG', 'PER']):\n",
    "                    file.write(f\"{word.split('_')[0]} O O {word.split('_')[1]}\\n\")\n",
    "                else:  # wrong labeled tokens\n",
    "                    tag = re.findall(pattern, word)[0][1:]\n",
    "                    string = ''.join(re.split(pattern, word))\n",
    "                    file.write(f\"{string} O O {tag}\\n\")\n",
    "            else:\n",
    "                file.write(f\"{word} O O O\\n\")\n",
    "        file.write(f\"\\n\")"
   ]
  },
  {
   "cell_type": "code",
   "execution_count": 27,
   "metadata": {},
   "outputs": [],
   "source": [
    "# compatible with - https://www.depends-on-the-definition.com/named-entity-recognition-with-bert/ - DOTD\n",
    "Word = []\n",
    "Tag = []\n",
    "IDS = []\n",
    "for idx, sent in df.items():\n",
    "    for word in sent.split():\n",
    "        if any(x in word for x in ['LOC', 'MISC', 'ORG', 'PER']):\n",
    "            if any(word.endswith(x) for x in ['LOC', 'MISC', 'ORG', 'PER']):\n",
    "                Word.append(word.split('_')[0])\n",
    "                Tag.append(word.split('_')[1])\n",
    "                IDS.append(idx)\n",
    "            else:  # wrong labeled tokens\n",
    "                tag = re.findall(pattern, word)[0][1:]\n",
    "                word = ''.join(re.split(pattern, word))\n",
    "                Word.append(word)\n",
    "                Tag.append(tag)\n",
    "                IDS.append(idx)\n",
    "        else:\n",
    "            Word.append(word)\n",
    "            Tag.append('O')\n",
    "            IDS.append(idx)"
   ]
  },
  {
   "cell_type": "code",
   "execution_count": 28,
   "metadata": {},
   "outputs": [
    {
     "data": {
      "text/plain": [
       "(158600, 158600, 158600)"
      ]
     },
     "execution_count": 28,
     "metadata": {},
     "output_type": "execute_result"
    }
   ],
   "source": [
    "len(Word), len(Tag), len(IDS)"
   ]
  },
  {
   "cell_type": "code",
   "execution_count": 29,
   "metadata": {},
   "outputs": [],
   "source": [
    "DOTD_df = pd.DataFrame({'Word':Word, 'Tag':Tag, 'Sentence #':IDS})"
   ]
  },
  {
   "cell_type": "code",
   "execution_count": 30,
   "metadata": {},
   "outputs": [],
   "source": [
    "DOTD_df.to_csv('ner_dataset.csv', index=False)"
   ]
  },
  {
   "cell_type": "markdown",
   "metadata": {},
   "source": [
    "## Train Test Valid split"
   ]
  },
  {
   "cell_type": "code",
   "execution_count": 4,
   "metadata": {},
   "outputs": [],
   "source": [
    "DOTD_df = pd.read_csv('ner_dataset.csv')"
   ]
  },
  {
   "cell_type": "code",
   "execution_count": 5,
   "metadata": {},
   "outputs": [
    {
     "data": {
      "text/html": [
       "<div>\n",
       "<style scoped>\n",
       "    .dataframe tbody tr th:only-of-type {\n",
       "        vertical-align: middle;\n",
       "    }\n",
       "\n",
       "    .dataframe tbody tr th {\n",
       "        vertical-align: top;\n",
       "    }\n",
       "\n",
       "    .dataframe thead th {\n",
       "        text-align: right;\n",
       "    }\n",
       "</style>\n",
       "<table border=\"1\" class=\"dataframe\">\n",
       "  <thead>\n",
       "    <tr style=\"text-align: right;\">\n",
       "      <th></th>\n",
       "      <th>Word</th>\n",
       "      <th>Tag</th>\n",
       "      <th>Sentence #</th>\n",
       "    </tr>\n",
       "  </thead>\n",
       "  <tbody>\n",
       "    <tr>\n",
       "      <th>0</th>\n",
       "      <td>Харин</td>\n",
       "      <td>O</td>\n",
       "      <td>0</td>\n",
       "    </tr>\n",
       "    <tr>\n",
       "      <th>1</th>\n",
       "      <td>\"Тавантолгой\"</td>\n",
       "      <td>B-ORG</td>\n",
       "      <td>0</td>\n",
       "    </tr>\n",
       "    <tr>\n",
       "      <th>2</th>\n",
       "      <td>ХК-ийн</td>\n",
       "      <td>O</td>\n",
       "      <td>0</td>\n",
       "    </tr>\n",
       "    <tr>\n",
       "      <th>3</th>\n",
       "      <td>уурхайчид</td>\n",
       "      <td>O</td>\n",
       "      <td>0</td>\n",
       "    </tr>\n",
       "    <tr>\n",
       "      <th>4</th>\n",
       "      <td>2017</td>\n",
       "      <td>O</td>\n",
       "      <td>0</td>\n",
       "    </tr>\n",
       "  </tbody>\n",
       "</table>\n",
       "</div>"
      ],
      "text/plain": [
       "            Word    Tag  Sentence #\n",
       "0          Харин      O           0\n",
       "1  \"Тавантолгой\"  B-ORG           0\n",
       "2         ХК-ийн      O           0\n",
       "3      уурхайчид      O           0\n",
       "4           2017      O           0"
      ]
     },
     "execution_count": 5,
     "metadata": {},
     "output_type": "execute_result"
    }
   ],
   "source": [
    "DOTD_df.head()"
   ]
  },
  {
   "cell_type": "code",
   "execution_count": 6,
   "metadata": {},
   "outputs": [],
   "source": [
    "class SentenceGetter(object):\n",
    "    \n",
    "    def __init__(self, data):\n",
    "        self.n_sent = 1\n",
    "        self.data = data\n",
    "        self.empty = False\n",
    "        agg_func = lambda s: [(w, t) for w, t in zip(s[\"Word\"].values.tolist(),\n",
    "                                                           s[\"Tag\"].values.tolist())]\n",
    "        self.grouped = self.data.groupby(\"Sentence #\").apply(agg_func)\n",
    "        self.sentences = [s for s in self.grouped]\n",
    "    \n",
    "    def get_next(self):\n",
    "        try:\n",
    "            s = self.grouped[\"Sentence: {}\".format(self.n_sent)]\n",
    "            self.n_sent += 1\n",
    "            return s\n",
    "        except:\n",
    "            return None"
   ]
  },
  {
   "cell_type": "code",
   "execution_count": 7,
   "metadata": {},
   "outputs": [],
   "source": [
    "getter = SentenceGetter(DOTD_df)"
   ]
  },
  {
   "cell_type": "code",
   "execution_count": 8,
   "metadata": {},
   "outputs": [
    {
     "data": {
      "text/plain": [
       "'Харин \"Тавантолгой\" ХК-ийн уурхайчид 2017 онд 141 тэрбум төгрөгийн ашигтай ажиллаад удахгүй хувьцаа эзэмшигчдийнхээ хурлыг хийж ногдол ашгаа хуваарилах юм байна.'"
      ]
     },
     "execution_count": 8,
     "metadata": {},
     "output_type": "execute_result"
    }
   ],
   "source": [
    "sentences = [\" \".join([s[0] for s in sent]) for sent in getter.sentences]\n",
    "sentences[0]"
   ]
  },
  {
   "cell_type": "code",
   "execution_count": 9,
   "metadata": {},
   "outputs": [
    {
     "name": "stdout",
     "output_type": "stream",
     "text": [
      "['O', 'B-ORG', 'O', 'O', 'O', 'O', 'O', 'O', 'O', 'O', 'O', 'O', 'O', 'O', 'O', 'O', 'O', 'O', 'O', 'O', 'O']\n"
     ]
    }
   ],
   "source": [
    "labels = [[s[1] for s in sent] for sent in getter.sentences]\n",
    "print(labels[0])"
   ]
  },
  {
   "cell_type": "code",
   "execution_count": 10,
   "metadata": {},
   "outputs": [],
   "source": [
    "from sklearn.model_selection import train_test_split"
   ]
  },
  {
   "cell_type": "code",
   "execution_count": 11,
   "metadata": {},
   "outputs": [],
   "source": [
    "X_train, X_test, y_train, y_test = train_test_split(sentences, labels, test_size=0.1, random_state=1)\n",
    "\n",
    "X_train, X_val, y_train, y_val = train_test_split(X_train, y_train, test_size=0.1, random_state=1)"
   ]
  },
  {
   "cell_type": "code",
   "execution_count": 12,
   "metadata": {},
   "outputs": [
    {
     "data": {
      "text/plain": [
       "(8230, 915, 1017)"
      ]
     },
     "execution_count": 12,
     "metadata": {},
     "output_type": "execute_result"
    }
   ],
   "source": [
    "len(X_train), len(X_val), len(X_test)"
   ]
  },
  {
   "cell_type": "code",
   "execution_count": 13,
   "metadata": {},
   "outputs": [
    {
     "data": {
      "text/plain": [
       "['B-PER',\n",
       " 'O',\n",
       " 'O',\n",
       " 'O',\n",
       " 'O',\n",
       " 'O',\n",
       " 'O',\n",
       " 'O',\n",
       " 'O',\n",
       " 'O',\n",
       " 'O',\n",
       " 'O',\n",
       " 'O',\n",
       " 'O',\n",
       " 'O',\n",
       " 'O',\n",
       " 'O',\n",
       " 'O',\n",
       " 'O',\n",
       " 'O',\n",
       " 'O',\n",
       " 'O',\n",
       " 'O',\n",
       " 'O',\n",
       " 'O']"
      ]
     },
     "execution_count": 13,
     "metadata": {},
     "output_type": "execute_result"
    }
   ],
   "source": [
    "y_train[0]"
   ]
  },
  {
   "cell_type": "code",
   "execution_count": 21,
   "metadata": {},
   "outputs": [
    {
     "data": {
      "text/plain": [
       "('Д.Гантулга гишүүн улайм цайм \"Тэндээс би бандаашаа өмсөөд гарсан\" гэх мэдээллийг олон нийтийн өмнө хийчихээд байхад шударга шүүх юу ч болоогүй мэт хаяхгүй байлгүй дээ.',\n",
       " 'УАНС-аас олгох буцалтгүй тусламжийн хөрөнгийг уур амьсгалын өөрчлөлтийн нөлөөг бууруулах болон уур амьсгалын өөрчлөлтөд дасан зохицоход чиглэсэн оновчтой шийдлүүдийг нэвтрүүлсэн барилгын компаниудтай хийх үр дүнд суурилсан буцалтгүй тусламжид зарцуулна.',\n",
       " 'Нэгдүгээрт 39 дүгээр сургуулиас \"Хүчит шонхор\" захын уулзвар хүртэлх 800 метр замын ажил.')"
      ]
     },
     "execution_count": 21,
     "metadata": {},
     "output_type": "execute_result"
    }
   ],
   "source": [
    "X_train[0], X_val[0], X_test[0]"
   ]
  },
  {
   "cell_type": "code",
   "execution_count": 27,
   "metadata": {},
   "outputs": [],
   "source": [
    "with open('train.txt', 'w') as train:\n",
    "    for sentence, label in zip(X_train, y_train):\n",
    "        for word, lab in zip(sentence.split(), label):\n",
    "            train.write(f'{word} O O {lab}\\n')\n",
    "        train.write(f\"\\n\")"
   ]
  },
  {
   "cell_type": "code",
   "execution_count": 28,
   "metadata": {},
   "outputs": [],
   "source": [
    "with open('test.txt', 'w') as test:\n",
    "    for sentence, label in zip(X_test, y_test):\n",
    "        for word, lab in zip(sentence.split(), label):\n",
    "            test.write(f'{word} O O {lab}\\n')\n",
    "        test.write(f\"\\n\")"
   ]
  },
  {
   "cell_type": "code",
   "execution_count": 29,
   "metadata": {},
   "outputs": [],
   "source": [
    "with open('valid.txt', 'w') as valid:\n",
    "    for sentence, label in zip(X_val, y_val):\n",
    "        for word, lab in zip(sentence.split(), label):\n",
    "            valid.write(f'{word} O O {lab}\\n')\n",
    "        valid.write(f\"\\n\")"
   ]
  },
  {
   "cell_type": "code",
   "execution_count": null,
   "metadata": {},
   "outputs": [],
   "source": []
  }
 ],
 "metadata": {
  "kernelspec": {
   "display_name": "Python 3",
   "language": "python",
   "name": "python3"
  },
  "language_info": {
   "codemirror_mode": {
    "name": "ipython",
    "version": 3
   },
   "file_extension": ".py",
   "mimetype": "text/x-python",
   "name": "python",
   "nbconvert_exporter": "python",
   "pygments_lexer": "ipython3",
   "version": "3.6.8"
  }
 },
 "nbformat": 4,
 "nbformat_minor": 2
}
